{
 "cells": [
  {
   "cell_type": "markdown",
   "metadata": {},
   "source": [
    "## Q1. Linear, Ridge, and Lasso Regression"
   ]
  },
  {
   "cell_type": "code",
   "execution_count": 2,
   "metadata": {},
   "outputs": [],
   "source": [
    "# Imported the packages: csv, Pandas, Scikit-learn, Numpy, Networkx, collections.\n",
    "import csv\n",
    "import pandas as pd\n",
    "import numpy as np\n",
    "import numpy.linalg as linalg\n",
    "import matplotlib.pyplot as plt\n",
    "import re\n",
    "import sklearn\n",
    "from sklearn import linear_model\n",
    "from sklearn.linear_model import Ridge, Lasso\n",
    "from sklearn.metrics import mean_squared_error\n",
    "from sklearn import cluster\n",
    "import networkx as nx\n",
    "from collections import defaultdict\n",
    "\n",
    "# Imported the train data.\n",
    "with open(\"/Users/advaitiyer/Desktop/Syracuse University/Academics/3rd Semester/Analytical Data Mining CIS 787/Homeworks/HW4/blogData_train.csv\") as csvfile:\n",
    "    file1=csv.reader(csvfile,delimiter=',')\n",
    "    train_list=[]\n",
    "    for row in file1:\n",
    "        train_list.append(row)\n",
    "# Split the train data into x_train (predictors) and y_train (target).\n",
    "x_train1=pd.DataFrame(train_list)\n",
    "x_train=x_train1.loc[:,:279]\n",
    "\n",
    "y_train=x_train1[280]"
   ]
  },
  {
   "cell_type": "code",
   "execution_count": 2,
   "metadata": {},
   "outputs": [],
   "source": [
    "# Imported the test data.\n",
    "with open(\"/Users/advaitiyer/Desktop/Syracuse University/Academics/3rd Semester/Analytical Data Mining CIS 787/Homeworks/HW4/blogData_test-2012.03.31.01_00.csv\") as csvfile1:\n",
    "    file2=csv.reader(csvfile1,delimiter=',')\n",
    "    test_list=[]\n",
    "    for row in file2:\n",
    "        test_list.append(row)\n",
    "# Split the test data into x_test (predictors), and y_test (target).\n",
    "x_test1=pd.DataFrame(test_list)\n",
    "x_test=x_test1.loc[:,:279]\n",
    "\n",
    "y_test=x_test1[280]"
   ]
  },
  {
   "cell_type": "markdown",
   "metadata": {},
   "source": [
    "#### Model 1: Linear Regression"
   ]
  },
  {
   "cell_type": "code",
   "execution_count": 3,
   "metadata": {},
   "outputs": [
    {
     "name": "stdout",
     "output_type": "stream",
     "text": [
      "train error: 30.053 test error: 40.399\n"
     ]
    }
   ],
   "source": [
    "# Fit the model.\n",
    "lr=linear_model.LinearRegression(fit_intercept=True)\n",
    "lr.fit(x_train,y_train)\n",
    "# Calculate errors in train and test sets.\n",
    "new_train_error = np.sqrt(mean_squared_error(y_train, lr.predict(x_train)))\n",
    "new_test_error = np.sqrt(mean_squared_error(y_test, lr.predict(x_test)))\n",
    "# Print the errors as report.\n",
    "print('train RMSE: {} test RMSE: {}'.format(round(new_train_error,3),round(new_test_error,3)))\n"
   ]
  },
  {
   "cell_type": "markdown",
   "metadata": {},
   "source": [
    "#### Model 2: Ridge Regression"
   ]
  },
  {
   "cell_type": "code",
   "execution_count": 66,
   "metadata": {},
   "outputs": [
    {
     "name": "stdout",
     "output_type": "stream",
     "text": [
      "alpha: 0.0 | train error: 30.052684 test error: 40.39306\n",
      "alpha: 0.2 | train error: 30.054198 test error: 40.394887\n",
      "alpha: 0.4 | train error: 30.054237 test error: 40.396618\n",
      "alpha: 0.6000000000000001 | train error: 30.054291 test error: 40.398181\n",
      "alpha: 0.8 | train error: 30.054356 test error: 40.399609\n",
      "alpha: 1.0 | train error: 30.054429 test error: 40.400926\n",
      "alpha: 1.2000000000000002 | train error: 30.054507 test error: 40.402151\n",
      "alpha: 1.4000000000000001 | train error: 30.054589 test error: 40.403296\n",
      "alpha: 1.6 | train error: 30.054674 test error: 40.404375\n",
      "alpha: 1.8 | train error: 30.054761 test error: 40.405395\n",
      "alpha: 2.0 | train error: 30.05485 test error: 40.406363\n",
      "alpha: 2.2 | train error: 30.054941 test error: 40.407286\n",
      "alpha: 2.4000000000000004 | train error: 30.055032 test error: 40.408169\n",
      "alpha: 2.6 | train error: 30.055124 test error: 40.409015\n",
      "alpha: 2.8000000000000003 | train error: 30.055216 test error: 40.409829\n",
      "alpha: 3.0 | train error: 30.055308 test error: 40.410613\n",
      "alpha: 3.2 | train error: 30.055401 test error: 40.41137\n",
      "alpha: 3.4000000000000004 | train error: 30.055493 test error: 40.412103\n",
      "alpha: 3.6 | train error: 30.055586 test error: 40.412813\n",
      "alpha: 3.8000000000000003 | train error: 30.055678 test error: 40.413502\n",
      "alpha: 4.0 | train error: 30.05577 test error: 40.414171\n",
      "alpha: 4.2 | train error: 30.055862 test error: 40.414823\n",
      "alpha: 4.4 | train error: 30.055953 test error: 40.415458\n",
      "alpha: 4.6000000000000005 | train error: 30.056044 test error: 40.416078\n",
      "alpha: 4.800000000000001 | train error: 30.056134 test error: 40.416683\n",
      "alpha: 5.0 | train error: 30.056224 test error: 40.417274\n",
      "alpha: 5.2 | train error: 30.056314 test error: 40.417852\n",
      "alpha: 5.4 | train error: 30.056403 test error: 40.418419\n",
      "alpha: 5.6000000000000005 | train error: 30.056492 test error: 40.418974\n",
      "alpha: 5.800000000000001 | train error: 30.05658 test error: 40.419518\n",
      "alpha: 6.0 | train error: 30.056668 test error: 40.420051\n",
      "alpha: 6.2 | train error: 30.056755 test error: 40.420576\n",
      "alpha: 6.4 | train error: 30.056841 test error: 40.42109\n",
      "alpha: 6.6000000000000005 | train error: 30.056928 test error: 40.421596\n",
      "alpha: 6.800000000000001 | train error: 30.057013 test error: 40.422094\n",
      "alpha: 7.0 | train error: 30.057098 test error: 40.422584\n",
      "alpha: 7.2 | train error: 30.057183 test error: 40.423066\n",
      "alpha: 7.4 | train error: 30.057267 test error: 40.42354\n",
      "alpha: 7.6000000000000005 | train error: 30.057351 test error: 40.424008\n",
      "alpha: 7.800000000000001 | train error: 30.057434 test error: 40.424468\n",
      "alpha: 8.0 | train error: 30.057516 test error: 40.424923\n",
      "alpha: 8.200000000000001 | train error: 30.057598 test error: 40.425371\n",
      "alpha: 8.4 | train error: 30.057679 test error: 40.425813\n",
      "alpha: 8.6 | train error: 30.05776 test error: 40.426249\n",
      "alpha: 8.8 | train error: 30.057841 test error: 40.426679\n",
      "alpha: 9.0 | train error: 30.057921 test error: 40.427104\n",
      "alpha: 9.200000000000001 | train error: 30.058 test error: 40.427524\n",
      "alpha: 9.4 | train error: 30.058079 test error: 40.427939\n",
      "alpha: 9.600000000000001 | train error: 30.058158 test error: 40.428349\n",
      "alpha: 9.8 | train error: 30.058236 test error: 40.428755\n",
      "alpha: 10.0 | train error: 30.058313 test error: 40.429156\n",
      "alpha: 10.200000000000001 | train error: 30.05839 test error: 40.429552\n",
      "alpha: 10.4 | train error: 30.058467 test error: 40.429944\n",
      "alpha: 10.600000000000001 | train error: 30.058543 test error: 40.430332\n",
      "alpha: 10.8 | train error: 30.058618 test error: 40.430715\n",
      "alpha: 11.0 | train error: 30.058693 test error: 40.431095\n",
      "alpha: 11.200000000000001 | train error: 30.058768 test error: 40.431471\n",
      "alpha: 11.4 | train error: 30.058842 test error: 40.431844\n",
      "alpha: 11.600000000000001 | train error: 30.058916 test error: 40.432212\n",
      "alpha: 11.8 | train error: 30.058989 test error: 40.432577\n",
      "alpha: 12.0 | train error: 30.059062 test error: 40.432939\n",
      "alpha: 12.200000000000001 | train error: 30.059135 test error: 40.433297\n",
      "alpha: 12.4 | train error: 30.059207 test error: 40.433652\n",
      "alpha: 12.600000000000001 | train error: 30.059278 test error: 40.434004\n",
      "alpha: 12.8 | train error: 30.059349 test error: 40.434352\n",
      "alpha: 13.0 | train error: 30.05942 test error: 40.434698\n",
      "alpha: 13.200000000000001 | train error: 30.05949 test error: 40.43504\n",
      "alpha: 13.4 | train error: 30.05956 test error: 40.43538\n",
      "alpha: 13.600000000000001 | train error: 30.05963 test error: 40.435717\n",
      "alpha: 13.8 | train error: 30.059699 test error: 40.436051\n",
      "alpha: 14.0 | train error: 30.059767 test error: 40.436382\n",
      "alpha: 14.200000000000001 | train error: 30.059836 test error: 40.436711\n",
      "alpha: 14.4 | train error: 30.059903 test error: 40.437037\n",
      "alpha: 14.600000000000001 | train error: 30.059971 test error: 40.43736\n",
      "alpha: 14.8 | train error: 30.060038 test error: 40.437681\n",
      "alpha: 15.0 | train error: 30.060105 test error: 40.437999\n",
      "alpha: 15.200000000000001 | train error: 30.060171 test error: 40.438315\n",
      "alpha: 15.4 | train error: 30.060237 test error: 40.438629\n",
      "alpha: 15.600000000000001 | train error: 30.060303 test error: 40.43894\n",
      "alpha: 15.8 | train error: 30.060368 test error: 40.439249\n",
      "alpha: 16.0 | train error: 30.060433 test error: 40.439556\n",
      "alpha: 16.2 | train error: 30.060497 test error: 40.43986\n",
      "alpha: 16.400000000000002 | train error: 30.060561 test error: 40.440163\n",
      "alpha: 16.6 | train error: 30.060625 test error: 40.440463\n",
      "alpha: 16.8 | train error: 30.060688 test error: 40.440761\n",
      "alpha: 17.0 | train error: 30.060752 test error: 40.441057\n",
      "alpha: 17.2 | train error: 30.060814 test error: 40.441351\n",
      "alpha: 17.400000000000002 | train error: 30.060877 test error: 40.441644\n",
      "alpha: 17.6 | train error: 30.060939 test error: 40.441934\n",
      "alpha: 17.8 | train error: 30.061 test error: 40.442222\n",
      "alpha: 18.0 | train error: 30.061062 test error: 40.442509\n",
      "alpha: 18.2 | train error: 30.061123 test error: 40.442793\n",
      "alpha: 18.400000000000002 | train error: 30.061184 test error: 40.443076\n",
      "alpha: 18.6 | train error: 30.061244 test error: 40.443357\n",
      "alpha: 18.8 | train error: 30.061304 test error: 40.443636\n",
      "alpha: 19.0 | train error: 30.061364 test error: 40.443913\n",
      "alpha: 19.200000000000003 | train error: 30.061424 test error: 40.444189\n",
      "alpha: 19.400000000000002 | train error: 30.061483 test error: 40.444463\n",
      "alpha: 19.6 | train error: 30.061542 test error: 40.444735\n",
      "alpha: 19.8 | train error: 30.0616 test error: 40.445006\n"
     ]
    }
   ],
   "source": [
    "# Set alpha as a series of multiples of 0.2.\n",
    "alphas = [i*0.2 for i in range(0,100)]\n",
    "for alpha in alphas:\n",
    "    # Instantiate the ridge regression model and fit the data.\n",
    "    ridge = Ridge(alpha=alpha, fit_intercept=True, random_state=46)\n",
    "    ridge.fit(x_train, y_train)\n",
    "    # Calculate the train and test errors.\n",
    "    new_train_error = np.sqrt(mean_squared_error(y_train, ridge.predict(x_train)))\n",
    "    new_test_error = np.sqrt(mean_squared_error(y_test, ridge.predict(x_test)))\n",
    "    # Print errors as report.\n",
    "    print('alpha: {} | train RMSE: {} test RMSE: {}'.format(alpha,round(new_train_error,6),round(new_test_error,6)))"
   ]
  },
  {
   "cell_type": "markdown",
   "metadata": {},
   "source": [
    "#### Model 3: Lasso Regression"
   ]
  },
  {
   "cell_type": "code",
   "execution_count": null,
   "metadata": {},
   "outputs": [],
   "source": [
    "# Set alpha as a series of multiples of 0.2.\n",
    "alphas = [i*0.2 for i in range(0,100)]\n",
    "for alpha in alphas:\n",
    "    # Instantiate the lasso regression model and fit the data.\n",
    "    lasso = Lasso(alpha=alpha, fit_intercept=True, random_state=46)\n",
    "    lasso.fit(x_train, y_train)\n",
    "    # Calculate the train and test errors.\n",
    "    new_train_error = np.sqrt(mean_squared_error(y_train, lasso.predict(x_train)))\n",
    "    new_test_error = np.sqrt(mean_squared_error(y_test, lasso.predict(x_test)))\n",
    "    # Print errors as report.\n",
    "    print('alpha: {} | train RMSE: {} test RMSE: {}'.format(alpha,round(new_train_error,6),round(new_test_error,6)))"
   ]
  },
  {
   "cell_type": "code",
   "execution_count": 57,
   "metadata": {},
   "outputs": [
    {
     "data": {
      "text/plain": [
       "array([ 0.07146315,  0.06007947, -0.        ,  0.01599065,  0.13351931,\n",
       "        0.        ,  0.        , -0.        ,  0.        ,  0.03991606,\n",
       "        0.        ,  0.        ,  0.        ,  0.01193697,  0.        ,\n",
       "        0.        ,  0.        , -0.        , -0.03770052,  0.        ,\n",
       "        0.        ,  0.        ,  0.00148093,  0.        ,  0.        ,\n",
       "        0.        ,  0.        , -0.        ,  0.        ,  0.        ,\n",
       "        0.        ,  0.        ,  0.        ,  0.        ,  0.        ,\n",
       "        0.        ,  0.        ,  0.        ,  0.        , -0.        ,\n",
       "        0.        ,  0.        , -0.        ,  0.        , -0.        ,\n",
       "        0.        ,  0.        , -0.        ,  0.        , -0.        ,\n",
       "       -0.01838712,  0.16376379, -0.        , -0.04129069,  0.04999613,\n",
       "        0.        ,  0.        ,  0.        ,  0.        ,  0.        ,\n",
       "       -0.11376435,  0.00016691,  0.        , -0.        , -0.        ,\n",
       "       -0.        , -0.        , -0.        ,  0.        , -0.        ,\n",
       "       -0.        , -0.        , -0.        , -0.        , -0.        ,\n",
       "       -0.        ,  0.        , -0.        ,  0.        , -0.        ,\n",
       "       -0.        , -0.        ,  0.        , -0.        ,  0.        ,\n",
       "       -0.        , -0.        ,  0.        , -0.        ,  0.        ,\n",
       "       -0.        ,  0.        ,  0.        , -0.        , -0.        ,\n",
       "        0.        , -0.        ,  0.        , -0.        , -0.        ,\n",
       "       -0.        ,  0.        ,  0.        , -0.        ,  0.        ,\n",
       "       -0.        , -0.        , -0.        , -0.        , -0.        ,\n",
       "       -0.        , -0.        , -0.        , -0.        , -0.        ,\n",
       "       -0.        , -0.        ,  0.        , -0.        , -0.        ,\n",
       "        0.        , -0.        , -0.        ,  0.        , -0.        ,\n",
       "       -0.        , -0.        , -0.        , -0.        , -0.        ,\n",
       "       -0.        , -0.        ,  0.        , -0.        , -0.        ,\n",
       "        0.        ,  0.        ,  0.        ,  0.        , -0.        ,\n",
       "        0.        ,  0.        , -0.        ,  0.        , -0.        ,\n",
       "       -0.        , -0.        , -0.        , -0.        , -0.        ,\n",
       "        0.        , -0.        , -0.        ,  0.        , -0.        ,\n",
       "       -0.        , -0.        ,  0.        , -0.        , -0.        ,\n",
       "       -0.        , -0.        ,  0.        , -0.        , -0.        ,\n",
       "       -0.        , -0.        , -0.        , -0.        , -0.        ,\n",
       "        0.        , -0.        , -0.        , -0.        , -0.        ,\n",
       "       -0.        , -0.        , -0.        , -0.        ,  0.        ,\n",
       "       -0.        ,  0.        , -0.        ,  0.        , -0.        ,\n",
       "       -0.        , -0.        , -0.        , -0.        , -0.        ,\n",
       "       -0.        ,  0.        ,  0.        , -0.        ,  0.        ,\n",
       "       -0.        , -0.        , -0.        ,  0.        , -0.        ,\n",
       "       -0.        ,  0.        , -0.        , -0.        ,  0.        ,\n",
       "       -0.        ,  0.        ,  0.        , -0.        ,  0.        ,\n",
       "       -0.        , -0.        , -0.        ,  0.        , -0.        ,\n",
       "        0.        , -0.        ,  0.        , -0.        , -0.        ,\n",
       "        0.        , -0.        , -0.        , -0.        , -0.        ,\n",
       "        0.        , -0.        , -0.        , -0.        ,  0.        ,\n",
       "       -0.        ,  0.        ,  0.        , -0.        , -0.        ,\n",
       "       -0.        , -0.        , -0.        , -0.        , -0.        ,\n",
       "        0.        , -0.        , -0.        , -0.        , -0.        ,\n",
       "       -0.        , -0.        ,  0.        , -0.        , -0.        ,\n",
       "        0.        ,  0.        , -0.        , -0.        , -0.        ,\n",
       "       -0.        ,  0.        ,  0.        ,  0.        ,  0.        ,\n",
       "        0.        , -0.        ,  0.        ,  0.        , -0.        ,\n",
       "       -0.        , -0.        , -0.        ,  0.        , -0.        ,\n",
       "       -0.        , -0.        , -0.        ,  0.        ,  0.        ,\n",
       "        0.        ,  0.        ,  0.        ,  0.        ,  0.        ])"
      ]
     },
     "execution_count": 57,
     "metadata": {},
     "output_type": "execute_result"
    }
   ],
   "source": [
    "coeff=lasso.coef_"
   ]
  },
  {
   "cell_type": "markdown",
   "metadata": {},
   "source": [
    "#### Top features in Lasso Regression"
   ]
  },
  {
   "cell_type": "code",
   "execution_count": 65,
   "metadata": {},
   "outputs": [
    {
     "name": "stdout",
     "output_type": "stream",
     "text": [
      "Most important features:\n"
     ]
    },
    {
     "data": {
      "text/plain": [
       "[(51, 0.16376378778312045),\n",
       " (4, 0.13351930903691636),\n",
       " (0, 0.07146314980038826),\n",
       " (1, 0.060079469033783355),\n",
       " (54, 0.049996134789007544),\n",
       " (9, 0.039916055366845796),\n",
       " (3, 0.015990649934812477),\n",
       " (13, 0.011936969349406416),\n",
       " (22, 0.0014809309542255734),\n",
       " (61, 0.00016690650053778437)]"
      ]
     },
     "execution_count": 65,
     "metadata": {},
     "output_type": "execute_result"
    }
   ],
   "source": [
    "lasso_features=list(zip(x_train.columns,coeff))\n",
    "lasso_features\n",
    "\n",
    "def Sort(x):\n",
    "    return(sorted(x, key=lambda x: float(x[1]), reverse=True))\n",
    "lasso_important=Sort(lasso_features)\n",
    "\n",
    "print(\"Most important features:\")\n",
    "lasso_important[0:10]"
   ]
  },
  {
   "cell_type": "markdown",
   "metadata": {},
   "source": [
    "## Q2 Spectral Clustering"
   ]
  },
  {
   "cell_type": "markdown",
   "metadata": {},
   "source": [
    "#### Method 1. Using Networkx and Scikit-learn"
   ]
  },
  {
   "cell_type": "code",
   "execution_count": 3,
   "metadata": {},
   "outputs": [
    {
     "data": {
      "text/plain": [
       "[[0,\n",
       "  0,\n",
       "  1,\n",
       "  0,\n",
       "  0,\n",
       "  0,\n",
       "  0,\n",
       "  0,\n",
       "  1,\n",
       "  1,\n",
       "  0,\n",
       "  0,\n",
       "  0,\n",
       "  0,\n",
       "  1,\n",
       "  1,\n",
       "  0,\n",
       "  0,\n",
       "  1,\n",
       "  0,\n",
       "  1,\n",
       "  0,\n",
       "  1,\n",
       "  1,\n",
       "  1,\n",
       "  1,\n",
       "  1,\n",
       "  1,\n",
       "  1,\n",
       "  1,\n",
       "  1,\n",
       "  1,\n",
       "  1,\n",
       "  1]]"
      ]
     },
     "execution_count": 3,
     "metadata": {},
     "output_type": "execute_result"
    }
   ],
   "source": [
    "# Clustering with Networkx\n",
    "\n",
    "# Read the data. Data is in graph format.\n",
    "G=nx.read_gml(\"/Users/advaitiyer/Desktop/Syracuse University/Academics/3rd Semester/Analytical Data Mining CIS 787/Homeworks/HW4/karate.gml.txt\",label='id')\n",
    "\n",
    "# for line in nx.generate_adjlist(G):\n",
    "#     print(line)\n",
    "\n",
    "# Create adjacency matrix from the graph data.\n",
    "A=nx.adjacency_matrix(G)\n",
    "# print(A.todense())\n",
    "\n",
    "# Conduct Spectral clustering with Scikit-learn's Spectral Clustering method.\n",
    "spectral_clustering=cluster.SpectralClustering(n_clusters=2,affinity=\"precomputed\", n_init=200)\n",
    "spectral_clustering.fit(A)\n",
    "results=[]\n",
    "results.append(list(spectral_clustering.labels_))\n",
    "results"
   ]
  },
  {
   "cell_type": "markdown",
   "metadata": {},
   "source": [
    "#### Method 2. Using Linear algebra, and k-means"
   ]
  },
  {
   "cell_type": "code",
   "execution_count": 4,
   "metadata": {},
   "outputs": [
    {
     "name": "stdout",
     "output_type": "stream",
     "text": [
      "degree matrix:\n",
      "[[16  0  0 ...  0  0  0]\n",
      " [ 0  9  0 ...  0  0  0]\n",
      " [ 0  0 10 ...  0  0  0]\n",
      " ...\n",
      " [ 0  0  0 ...  6  0  0]\n",
      " [ 0  0  0 ...  0 12  0]\n",
      " [ 0  0  0 ...  0  0 17]]\n",
      "Laplacian matrix:\n",
      "[[16 -1 -1 ... -1  0  0]\n",
      " [-1  9 -1 ...  0  0  0]\n",
      " [-1 -1 10 ...  0 -1  0]\n",
      " ...\n",
      " [-1  0  0 ...  6 -1 -1]\n",
      " [ 0  0 -1 ... -1 12 -1]\n",
      " [ 0  0  0 ... -1 -1 17]]\n"
     ]
    }
   ],
   "source": [
    "# Create degree matrix from the adjacency matrix.\n",
    "D=np.diag(np.sum(np.array(A.todense()),axis=1))\n",
    "print(\"degree matrix:\")\n",
    "print(D)\n",
    "\n",
    "# Create Laplacian matrix.\n",
    "L=D-A\n",
    "print(\"Laplacian matrix:\")\n",
    "print(L)"
   ]
  },
  {
   "cell_type": "code",
   "execution_count": 8,
   "metadata": {},
   "outputs": [
    {
     "name": "stdout",
     "output_type": "stream",
     "text": [
      "Eigenvalues:\n",
      "[1.81366960e+01 1.70551712e+01 1.33061223e+01 1.09210675e+01\n",
      " 9.77724095e+00 6.99619703e+00 6.51554463e+00 6.33159222e+00\n",
      " 5.61803399e+00 5.37859508e+00 4.58079267e+00 4.48000767e+00\n",
      " 4.27587682e+00 3.47218740e+00 3.38196601e+00 3.37615409e+00\n",
      " 3.24206748e+00 3.01396297e+00 2.74915718e+00 2.48709173e+00\n",
      " 2.00000000e+00 2.00000000e+00 2.00000000e+00 2.00000000e+00\n",
      " 2.00000000e+00 1.95505045e+00 1.82605521e+00 1.76189862e+00\n",
      " 1.59928308e+00 1.25940411e+00 1.12501072e+00 9.09247664e-01\n",
      " 4.68525227e-01 6.84538602e-15]\n",
      "Eigenvectors:\n",
      "[[ 0.19374903 -0.94093217 -0.09478253 ... -0.06940423 -0.11213743\n",
      "  -0.17149859]\n",
      " [ 0.00522422  0.06586476  0.09918451 ... -0.09514749 -0.04128789\n",
      "  -0.17149859]\n",
      " [ 0.02918609  0.11506912 -0.31479791 ... -0.04270411  0.02321896\n",
      "  -0.17149859]\n",
      " ...\n",
      " [-0.0855124   0.07685092 -0.12302713 ...  0.02830225  0.09875343\n",
      "  -0.17149859]\n",
      " [-0.05907528 -0.07434337  0.88955887 ...  0.03779294  0.13034546\n",
      "  -0.17149859]\n",
      " [ 0.94347941  0.20184142  0.0374803  ...  0.02839394  0.11890326\n",
      "  -0.17149859]]\n"
     ]
    },
    {
     "data": {
      "image/png": "[encoded data removed]",
      "text/plain": [
       "<Figure size 432x288 with 1 Axes>"
      ]
     },
     "metadata": {
      "needs_background": "light"
     },
     "output_type": "display_data"
    }
   ],
   "source": [
    "eigenvalues,eigenvectors=np.linalg.eig(L)\n",
    "\n",
    "# Compute eigenvalues. Sort them in descending order.\n",
    "print(\"Eigenvalues:\")\n",
    "ids=eigenvalues.argsort()[::-1]\n",
    "eigenvalues=eigenvalues[ids]\n",
    "print(eigenvalues)\n",
    "plt.plot(eigenvalues)\n",
    "\n",
    "\n",
    "# Compute eigenvectors. Sort them through the ids of eigenvalue array.\n",
    "print(\"Eigenvectors:\")\n",
    "eigenvectors=eigenvectors[:,ids]\n",
    "print(eigenvectors)"
   ]
  },
  {
   "cell_type": "code",
   "execution_count": 9,
   "metadata": {},
   "outputs": [
    {
     "data": {
      "text/plain": [
       "array([0, 0, 0, 0, 0, 0, 0, 0, 1, 0, 0, 0, 0, 0, 1, 0, 0, 0, 1, 0, 0, 1,\n",
       "       0, 0, 1, 0, 0, 0, 1, 0, 0, 1, 0, 0], dtype=int32)"
      ]
     },
     "execution_count": 9,
     "metadata": {},
     "output_type": "execute_result"
    }
   ],
   "source": [
    "# K-means:\n",
    "\n",
    "# Run k-means clustering algorithm using 2 clusters.\n",
    "kmeans_clustering=cluster.KMeans(n_clusters=2)\n",
    "kmeans_clustering.fit(np.transpose(eigenvectors))\n",
    "clusters=kmeans_clustering.labels_\n",
    "# Print the clusters.\n",
    "clusters"
   ]
  }
 ],
 "metadata": {
  "kernelspec": {
   "display_name": "Python 3",
   "language": "python",
   "name": "python3"
  },
  "language_info": {
   "codemirror_mode": {
    "name": "ipython",
    "version": 3
   },
   "file_extension": ".py",
   "mimetype": "text/x-python",
   "name": "python",
   "nbconvert_exporter": "python",
   "pygments_lexer": "ipython3",
   "version": "3.7.1"
  }
 },
 "nbformat": 4,
 "nbformat_minor": 2
}
