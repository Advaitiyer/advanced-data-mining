{
  "nbformat": 4,
  "nbformat_minor": 0,
  "metadata": {
    "kernelspec": {
      "display_name": "Python 3",
      "language": "python",
      "name": "python3"
    },
    "language_info": {
      "codemirror_mode": {
        "name": "ipython",
        "version": 3
      },
      "file_extension": ".py",
      "mimetype": "text/x-python",
      "name": "python",
      "nbconvert_exporter": "python",
      "pygments_lexer": "ipython3",
      "version": "3.7.4"
    },
    "colab": {
      "name": "ADM_project_code_new.ipynb",
      "provenance": [],
      "collapsed_sections": []
    }
  },
  "cells": [
    {
      "cell_type": "markdown",
      "metadata": {
        "id": "LRFeulDAaKWU",
        "colab_type": "text"
      },
      "source": [
        "## Analytical Data Mining Project \n",
        "\n",
        "**Author:** Advait Ramesh Iyer **| NetID:** aiyer01 **| SUID:** 330623485"
      ]
    },
    {
      "cell_type": "markdown",
      "metadata": {
        "id": "V-fXWEWiaKWg",
        "colab_type": "text"
      },
      "source": [
        "### Preprocessing"
      ]
    },
    {
      "cell_type": "markdown",
      "metadata": {
        "id": "V0SDdGiWaKWj",
        "colab_type": "text"
      },
      "source": [
        "**Step 1:** Importing the essential libraries for the project"
      ]
    },
    {
      "cell_type": "code",
      "metadata": {
        "id": "w9VegTW6acpH",
        "colab_type": "code",
        "colab": {
          "base_uri": "https://localhost:8080/",
          "height": 34
        },
        "outputId": "b1011f52-6781-434f-d8ea-7d0c4bf16e00"
      },
      "source": [
        "from google.colab import drive\n",
        "drive.mount('/content/drive')"
      ],
      "execution_count": 3,
      "outputs": [
        {
          "output_type": "stream",
          "text": [
            "Drive already mounted at /content/drive; to attempt to forcibly remount, call drive.mount(\"/content/drive\", force_remount=True).\n"
          ],
          "name": "stdout"
        }
      ]
    },
    {
      "cell_type": "code",
      "metadata": {
        "id": "JSLyCcLiaKWt",
        "colab_type": "code",
        "colab": {}
      },
      "source": [
        "# Pre-processing\n",
        "import glob\n",
        "import random\n",
        "import re\n",
        "import nltk\n",
        "# nltk.download('stopwords')\n",
        "# !pip3 install stemming\n",
        "from stemming.porter2 import stem\n",
        "from nltk.corpus import stopwords\n",
        "import string\n",
        "\n",
        "# Spectral clustering\n",
        "import numpy as np\n",
        "import pandas as pd\n",
        "import csv\n",
        "import sklearn\n",
        "from sklearn import cluster\n",
        "import networkx as nx\n",
        "import scipy\n",
        "from scipy.sparse.linalg import eigs, eigsh\n",
        "import matplotlib\n",
        "from matplotlib import pylab\n",
        "from matplotlib import pyplot as plt\n",
        "\n",
        "# Community detection\n",
        "import json"
      ],
      "execution_count": 0,
      "outputs": []
    },
    {
      "cell_type": "markdown",
      "metadata": {
        "id": "VCb45LFGaKXC",
        "colab_type": "text"
      },
      "source": [
        "**Step 2:** Importing \"Amazon co-purchased products\" text file"
      ]
    },
    {
      "cell_type": "code",
      "metadata": {
        "id": "8cs3sFWBaKXG",
        "colab_type": "code",
        "colab": {}
      },
      "source": [
        "filepath = glob.glob(\"./drive/My Drive/ADM Project/amazon-meta.txt*\")\n",
        "fil = filepath[0]\n",
        "text = open(fil,'r',encoding='utf-8',errors='ignore')"
      ],
      "execution_count": 0,
      "outputs": []
    },
    {
      "cell_type": "markdown",
      "metadata": {
        "id": "7vY-x-qWaKXO",
        "colab_type": "text"
      },
      "source": [
        "**Step 3:** Conduct preprocessing of the data"
      ]
    },
    {
      "cell_type": "code",
      "metadata": {
        "id": "WUcSikEKaKXS",
        "colab_type": "code",
        "colab": {}
      },
      "source": [
        "amazon = {}\n",
        "# Declaring the tuple of various feature values\n",
        "(Id, ASIN, title, categories, group, connections, salesrank, tot_reviews, avg_rating, degree_centrality, clustering_coeff) = (\"\",\"\",\"\",\"\",\"\",\"\", 0, 0, 0.0, 0, 0.0)\n",
        "\n",
        "for line in text:\n",
        "    line = line.strip()\n",
        "    # Strip ID\n",
        "    if(line.startswith(\"Id\")):\n",
        "        Id = line[3:].strip()\n",
        "    # Strip ASIN, which is the node\n",
        "    elif(line.startswith(\"ASIN\")):\n",
        "        ASIN = line[5:].strip()\n",
        "    # Strip Title\n",
        "    elif(line.startswith(\"title\")):\n",
        "        title = line[6:].strip()\n",
        "        title = ' '.join(title.split())\n",
        "    # Strip Group\n",
        "    elif(line.startswith(\"group\")):\n",
        "        group = line[6:].strip()\n",
        "    # Strip sales rank\n",
        "    elif(line.startswith(\"salesrank\")):\n",
        "        salesrank = line[10:]\n",
        "    # Strip similar, which are the connections\n",
        "    elif(line.startswith(\"similar\")):\n",
        "        a = line.split()\n",
        "        connections = ' '.join([i for i in a[2:]])\n",
        "    # Strip categories\n",
        "    elif(line.startswith(\"categories\")):\n",
        "        b = line.split()\n",
        "        # Converted to lowercase\n",
        "        categories = ' '.join((text.readline()).lower() for i in range(int(b[1].strip())))\n",
        "        # Remove punctuations\n",
        "        categories = re.compile('[%s]' % re.escape(string.digits + string.punctuation)).sub(' ', categories)\n",
        "        # Remove stopwords\n",
        "        categories = ' '.join(set(categories.split()) - set(stopwords.words('english')))\n",
        "        # Concatenate the words\n",
        "        categories = ' '.join(stem(word) for word in categories.split())\n",
        "    # Count the reviews, and average rating\n",
        "    elif(line.startswith(\"reviews\")):\n",
        "        c = line.split()\n",
        "        tot_reviews = c[2].strip()\n",
        "        avg_rating = c[7].strip()\n",
        "    # Handling the exception for cases where instances are missing\n",
        "    elif(line==\"\"):\n",
        "        try:\n",
        "            exception = {}\n",
        "            if(ASIN!=\"\"):\n",
        "                amazon[ASIN] = exception\n",
        "            exception['Id'] = Id\n",
        "            exception['title'] = title\n",
        "            exception['group'] = group\n",
        "            exception['categories'] = ' '.join(set(categories.split()))\n",
        "            exception['connections'] = connections\n",
        "            exception['salesrank'] = int(salesrank)\n",
        "            exception['tot_reviews'] = int(tot_reviews)\n",
        "            exception['avg_rating'] = float(avg_rating)\n",
        "            exception['degree_centrality'] = degree_centrality\n",
        "            exception['clustering_coeff'] = clustering_coeff\n",
        "        except NameError:\n",
        "            continue\n",
        "        (Id, ASIN, title, categories, group, connections, salesrank, tot_reviews, avg_rating, degree_centrality, clustering_coeff) = (\"\",\"\",\"\",\"\",\"\",\"\", 0, 0, 0.0, 0, 0.0)\n",
        "text.close()"
      ],
      "execution_count": 0,
      "outputs": []
    },
    {
      "cell_type": "code",
      "metadata": {
        "id": "4Bpf660xaKXg",
        "colab_type": "code",
        "colab": {}
      },
      "source": [
        "# Subset of music products in the dataset\n",
        "amazon_music = {}\n",
        "for key, value in amazon.items():\n",
        "  # Check for the case where value is \"Music\", and only then choose\n",
        "    if(value['group'] == \"Music\"):\n",
        "        amazon_music[key] = amazon[key]\n",
        "\n",
        "# Join the connections\n",
        "for key, value in amazon_music.items():\n",
        "    amazon_music[key]['connections'] = ' '.join([connection for connection in value['connections'].split() if connection in amazon_music.keys()])\n",
        "\n",
        "# Convert to dataframe\n",
        "amazon_music_df = pd.DataFrame.from_dict(amazon_music)\n",
        "amazon_music_df = amazon_music_df.transpose()"
      ],
      "execution_count": 0,
      "outputs": []
    },
    {
      "cell_type": "code",
      "metadata": {
        "id": "knWkf9DBiQ8g",
        "colab_type": "code",
        "outputId": "5979ff62-3e6c-4050-ca1f-464c677f475e",
        "colab": {
          "base_uri": "https://localhost:8080/",
          "height": 34
        }
      },
      "source": [
        "len(amazon_music_df)"
      ],
      "execution_count": 23,
      "outputs": [
        {
          "output_type": "execute_result",
          "data": {
            "text/plain": [
              "103144"
            ]
          },
          "metadata": {
            "tags": []
          },
          "execution_count": 23
        }
      ]
    },
    {
      "cell_type": "code",
      "metadata": {
        "id": "OIk8VSkYaKXq",
        "colab_type": "code",
        "colab": {}
      },
      "source": [
        "# Subset of books\n",
        "amazon_books = {}\n",
        "for key, value in amazon.items():\n",
        "    if(value['group'] == \"Book\"):\n",
        "        amazon_books[key] = amazon[key]\n",
        "\n",
        "for key, value in amazon_books.items():\n",
        "    amazon_books[key]['connections'] = ' '.join([connection for connection in value['connections'].split() if connection in amazon_books.keys()])\n",
        "    \n",
        "amazon_books_df = pd.DataFrame.from_dict(amazon_books)\n",
        "amazon_books_df = amazon_books_df.transpose()"
      ],
      "execution_count": 0,
      "outputs": []
    },
    {
      "cell_type": "code",
      "metadata": {
        "id": "ttYTcWWa-Oj9",
        "colab_type": "code",
        "colab": {
          "base_uri": "https://localhost:8080/",
          "height": 34
        },
        "outputId": "2b4ae727-9234-4674-e492-3f563d324f5d"
      },
      "source": [
        "len(amazon_books_df)"
      ],
      "execution_count": 24,
      "outputs": [
        {
          "output_type": "execute_result",
          "data": {
            "text/plain": [
              "393561"
            ]
          },
          "metadata": {
            "tags": []
          },
          "execution_count": 24
        }
      ]
    },
    {
      "cell_type": "code",
      "metadata": {
        "id": "GsIcDti7aKXy",
        "colab_type": "code",
        "colab": {}
      },
      "source": [
        "# Subset of DVDs\n",
        "amazon_dvd = {}\n",
        "for key, value in amazon.items():\n",
        "    if(value['group'] == \"DVD\"):\n",
        "        amazon_dvd[key] = amazon[key]\n",
        "\n",
        "for key, value in amazon_dvd.items():\n",
        "    amazon_dvd[key]['connections'] = ' '.join([connection for connection in value['connections'].split() if connection in amazon_dvd.keys()])\n",
        "\n",
        "amazon_dvd_df = pd.DataFrame.from_dict(amazon_dvd)\n",
        "amazon_dvd_df = amazon_dvd_df.transpose()"
      ],
      "execution_count": 0,
      "outputs": []
    },
    {
      "cell_type": "code",
      "metadata": {
        "id": "o2WR67Ye-SMr",
        "colab_type": "code",
        "colab": {
          "base_uri": "https://localhost:8080/",
          "height": 34
        },
        "outputId": "68c92ca2-36dc-46b4-c400-b60b349a086c"
      },
      "source": [
        "len(amazon_dvd_df)"
      ],
      "execution_count": 25,
      "outputs": [
        {
          "output_type": "execute_result",
          "data": {
            "text/plain": [
              "19828"
            ]
          },
          "metadata": {
            "tags": []
          },
          "execution_count": 25
        }
      ]
    },
    {
      "cell_type": "code",
      "metadata": {
        "id": "kaFKsADVaKX-",
        "colab_type": "code",
        "colab": {}
      },
      "source": [
        "# Subset of Videos\n",
        "amazon_video = {}\n",
        "for key, value in amazon.items():\n",
        "    if(value['group'] == \"Video\"):\n",
        "        amazon_video[key] = amazon[key]\n",
        "\n",
        "for key, value in amazon_video.items():\n",
        "    amazon_video[key]['connections'] = ' '.join([connection for connection in value['connections'].split() if connection in amazon_video.keys()])\n",
        "\n",
        "amazon_video_df = pd.DataFrame.from_dict(amazon_video)\n",
        "amazon_video_df = amazon_video_df.transpose()"
      ],
      "execution_count": 0,
      "outputs": []
    },
    {
      "cell_type": "code",
      "metadata": {
        "id": "3a2AZKzX-WEj",
        "colab_type": "code",
        "colab": {
          "base_uri": "https://localhost:8080/",
          "height": 34
        },
        "outputId": "a65d8b91-ebfd-48e2-b350-bdad6efbe211"
      },
      "source": [
        "len(amazon_video_df)"
      ],
      "execution_count": 26,
      "outputs": [
        {
          "output_type": "execute_result",
          "data": {
            "text/plain": [
              "26131"
            ]
          },
          "metadata": {
            "tags": []
          },
          "execution_count": 26
        }
      ]
    },
    {
      "cell_type": "code",
      "metadata": {
        "id": "ttySACRnwHv2",
        "colab_type": "code",
        "colab": {}
      },
      "source": [
        "# Evaluating the similarity between two connected nodes\n",
        "connections_graph = nx.Graph()\n",
        "# Add the nodes\n",
        "for key, value in amazon.items():\n",
        "  connections_graph.add_node(key)\n",
        "  for i in value['connections'].split():\n",
        "    # Add the respective connected nodes\n",
        "    connections_graph.add_node(i.strip())\n",
        "    similarity = 0\n",
        "    try:\n",
        "      # Set of words in the node's categorical description\n",
        "      set_1 = set(amazon[key]['categories'].split())\n",
        "      # Set of words is node's connections' categorical description\n",
        "      set_2 = set(amazon[i]['categories'].split())\n",
        "    except KeyError:\n",
        "      continue\n",
        "    # Calculating intersection and union\n",
        "    union = set_1 & set_2\n",
        "    intersection = set_1 | set_2\n",
        "    if(len(union)) > 0:\n",
        "      # Similarity is the ratio of intersection with union. The more common items, the higher the intersection, and similarity\n",
        "      similarity = round(len(intersection)/len(union),2)\n",
        "    connections_graph.add_edge(key, i.strip(), weight=similarity)"
      ],
      "execution_count": 0,
      "outputs": []
    },
    {
      "cell_type": "code",
      "metadata": {
        "id": "wJAMCKMH4yG7",
        "colab_type": "code",
        "colab": {}
      },
      "source": [
        "# Adjacency matrix\n",
        "A = nx.adjacency_matrix(connections_graph)"
      ],
      "execution_count": 0,
      "outputs": []
    },
    {
      "cell_type": "code",
      "metadata": {
        "id": "BaB7b0pC63sl",
        "colab_type": "code",
        "colab": {}
      },
      "source": [
        "# Laplacian matrix\n",
        "L = nx.laplacian_matrix(connections_graph)"
      ],
      "execution_count": 0,
      "outputs": []
    },
    {
      "cell_type": "code",
      "metadata": {
        "id": "aW_kgWUr5ChM",
        "colab_type": "code",
        "colab": {}
      },
      "source": [
        "# Due to the large size of the data, computing only top 200 eigenvalues/eigenvectors\n",
        "eigenvalues, eigenvectors = eigsh(L, k=200, which='LM', return_eigenvectors=True)"
      ],
      "execution_count": 0,
      "outputs": []
    },
    {
      "cell_type": "code",
      "metadata": {
        "id": "LO0G5nRQ7TX-",
        "colab_type": "code",
        "outputId": "2c4b19db-2367-4ce3-8945-f39223496b19",
        "colab": {
          "base_uri": "https://localhost:8080/",
          "height": 267
        }
      },
      "source": [
        "# Sorting the eigenvectors on the basis of sorted eigenvalues' keys\n",
        "ids = eigenvalues.argsort()[::-1]\n",
        "eigenvalues = eigenvalues[ids]\n",
        "plt.plot(eigenvalues)\n",
        "\n",
        "eigenvectors = eigenvectors[:, ids]"
      ],
      "execution_count": 17,
      "outputs": [
        {
          "output_type": "display_data",
          "data": {
            "image/png": "[encoded data removed]",
            "text/plain": [
              "<Figure size 432x288 with 1 Axes>"
            ]
          },
          "metadata": {
            "tags": []
          }
        }
      ]
    },
    {
      "cell_type": "markdown",
      "metadata": {
        "id": "qRMfPKJuBYia",
        "colab_type": "text"
      },
      "source": [
        "Through visual inspection, 25 eigenvectors seem to cover most of the variance of the graph.\n",
        "\n",
        "We do not possess any objective ground truth to evaluate spectral clustering results.\n",
        "\n",
        "Using the text data, similarity was computed to calculate the clustering coefficient."
      ]
    },
    {
      "cell_type": "code",
      "metadata": {
        "id": "A0NhhkoO-C3w",
        "colab_type": "code",
        "colab": {}
      },
      "source": [
        "# Choosing the first 25 eigenvectors only\n",
        "new_eig = eigenvectors[0:25]\n",
        "\n",
        "# K-means clustering with the motivation of splitting to 4 groups\n",
        "kmeans_clustering=cluster.KMeans(n_clusters=4)\n",
        "kmeans_clustering.fit(new_eig)\n",
        "clusters=kmeans_clustering.labels_"
      ],
      "execution_count": 0,
      "outputs": []
    },
    {
      "cell_type": "code",
      "metadata": {
        "id": "VY-KR4Mh-F0F",
        "colab_type": "code",
        "colab": {
          "base_uri": "https://localhost:8080/",
          "height": 51
        },
        "outputId": "4957deb5-9999-4fbe-fea4-170f116436a5"
      },
      "source": [
        "# Cluster labels\n",
        "clusters"
      ],
      "execution_count": 51,
      "outputs": [
        {
          "output_type": "execute_result",
          "data": {
            "text/plain": [
              "array([0, 0, 0, 0, 0, 0, 0, 3, 1, 3, 3, 3, 3, 0, 0, 0, 0, 0, 0, 0, 0, 0,\n",
              "       0, 0, 2], dtype=int32)"
            ]
          },
          "metadata": {
            "tags": []
          },
          "execution_count": 51
        }
      ]
    },
    {
      "cell_type": "code",
      "metadata": {
        "id": "-c8T67Cm8XcR",
        "colab_type": "code",
        "outputId": "9afaeb06-324f-48c6-8ffb-ee224f62762a",
        "colab": {
          "base_uri": "https://localhost:8080/",
          "height": 1000
        }
      },
      "source": [
        "# Evaluating the degree of the nodes of connections\n",
        "deg_central = nx.degree(connections_graph)\n",
        "for key in nx.nodes(connections_graph):\n",
        "  try:\n",
        "    value = amazon[key]\n",
        "  except KeyError:\n",
        "    continue\n",
        "  # Degree centrality is the integer value of deg_central\n",
        "  value['degree_centrality'] = int(deg_central[key])\n",
        "  # \n",
        "  ego = nx.ego_graph(connections_graph, key, radius=1)\n",
        "  # Evaluating the clustering coefficient by \n",
        "  value['clustering_coeff'] = round(nx.average_clustering(ego),2)\n",
        "  amazon[key] = value\n",
        "\n",
        "# Printing the weights of each of each 150th node\n",
        "count = 0\n",
        "for f,t,e in connections_graph.edges(data=True):\n",
        "  if count == 150:\n",
        "    break\n",
        "  print(e['weight'])\n",
        "  count +=1"
      ],
      "execution_count": 18,
      "outputs": [
        {
          "output_type": "stream",
          "text": [
            "1.43\n",
            "2.0\n",
            "1.25\n",
            "1.25\n",
            "1.43\n",
            "1.43\n",
            "1.43\n",
            "1.43\n",
            "1.43\n",
            "1.33\n",
            "1.0\n",
            "1.11\n",
            "1.29\n",
            "2.57\n",
            "2.0\n",
            "2.57\n",
            "1.67\n",
            "3.0\n",
            "1.29\n",
            "1.0\n",
            "2.2\n",
            "1.11\n",
            "1.0\n",
            "1.29\n",
            "1.57\n",
            "1.43\n",
            "1.29\n",
            "1.11\n",
            "1.11\n",
            "1.57\n",
            "1.67\n",
            "1.29\n",
            "1.57\n",
            "1.57\n",
            "2.29\n",
            "1.29\n",
            "1.0\n",
            "1.0\n",
            "2.0\n",
            "2.5\n",
            "4.4\n",
            "3.57\n",
            "2.25\n",
            "2.29\n",
            "2.11\n",
            "2.12\n",
            "3.83\n",
            "2.57\n",
            "2.25\n",
            "2.57\n",
            "1.46\n",
            "1.07\n",
            "2.29\n",
            "4.8\n",
            "3.0\n",
            "2.29\n",
            "7.33\n",
            "3.0\n",
            "2.57\n",
            "3.17\n",
            "2.57\n",
            "2.25\n",
            "1.2\n",
            "1.25\n",
            "1.71\n",
            "10.0\n",
            "1.25\n",
            "1.0\n",
            "1.43\n",
            "1.43\n",
            "1.71\n",
            "1.43\n",
            "3.6\n",
            "1.62\n",
            "2.14\n",
            "1.11\n",
            "1.11\n",
            "2.4\n",
            "1.71\n",
            "1.71\n",
            "1.43\n",
            "1.44\n",
            "2.17\n",
            "2.14\n",
            "2.33\n",
            "1.57\n",
            "1.75\n",
            "2.88\n",
            "1.88\n",
            "2.0\n",
            "1.38\n",
            "3.25\n",
            "6.0\n",
            "2.5\n",
            "1.75\n",
            "2.36\n",
            "1.14\n",
            "1.14\n",
            "1.0\n",
            "1.27\n",
            "10.5\n",
            "1.15\n",
            "2.09\n",
            "1.23\n",
            "1.42\n",
            "1.33\n",
            "5.4\n",
            "10.33\n",
            "2.91\n",
            "2.55\n",
            "2.45\n",
            "2.09\n",
            "2.09\n",
            "2.55\n",
            "2.36\n",
            "2.09\n",
            "6.17\n",
            "3.11\n",
            "3.22\n",
            "2.36\n",
            "3.8\n",
            "1.07\n",
            "1.36\n",
            "1.23\n",
            "1.69\n",
            "2.22\n",
            "4.0\n",
            "1.45\n",
            "1.14\n",
            "1.31\n",
            "1.58\n",
            "1.14\n",
            "1.18\n",
            "1.45\n",
            "1.82\n",
            "2.78\n",
            "1.27\n",
            "1.0\n",
            "1.11\n",
            "1.11\n",
            "1.11\n",
            "1.11\n",
            "1.11\n",
            "1.79\n",
            "1.62\n",
            "1.11\n",
            "1.11\n",
            "1.11\n",
            "1.17\n",
            "1.11\n"
          ],
          "name": "stdout"
        }
      ]
    },
    {
      "cell_type": "code",
      "metadata": {
        "id": "1zFYFUHR9ooP",
        "colab_type": "code",
        "colab": {}
      },
      "source": [
        "# Saving the edgelist\n",
        "writer = open('amazon_edgelist.txt','w',encoding='utf-8',errors='ignore')\n",
        "writer.write(\"Id\\t\" + \"ASIN\\t\" + \"title\\t\" + \"group\\t\" + \"categories\\t\" + \"connections\\t\" + \"salesrank\\t\" + \"tot_reviews\\t\" + \"avg_rating\\t\" + \"degree_centrality\\t\" + \"clustering_coeff\\n\")\n",
        "for key, value in amazon.items():\n",
        "  writer.write(value['Id']+\"\\t\"+key+\"\\t\"+value['title']+\"\\t\"+value[\"group\"]+\"\\t\"+value[\"categories\"]+\"\\t\"+value[\"connections\"]+\"\\t\"+str(value[\"salesrank\"])+\"\\t\"+str(value[\"tot_reviews\"])+\"\\t\"+str(value[\"avg_rating\"])+\"\\t\"+str(value[\"degree_centrality\"])+\"\\t\"+str(value[\"clustering_coeff\"]))\n",
        "\n",
        "writer.close()"
      ],
      "execution_count": 0,
      "outputs": []
    },
    {
      "cell_type": "code",
      "metadata": {
        "id": "PGRnxHUsEicQ",
        "colab_type": "code",
        "colab": {}
      },
      "source": [
        "# Saving the edgelist's associated graph\n",
        "writer = open(\"amazon_edgelist\",\"wb\")\n",
        "nx.write_weighted_edgelist(connections_graph, writer)"
      ],
      "execution_count": 0,
      "outputs": []
    },
    {
      "cell_type": "code",
      "metadata": {
        "id": "Qp8ND7co1e0_",
        "colab_type": "code",
        "colab": {}
      },
      "source": [
        "items = list(amazon.items())"
      ],
      "execution_count": 0,
      "outputs": []
    },
    {
      "cell_type": "code",
      "metadata": {
        "id": "LjoXJmPQ1mgj",
        "colab_type": "code",
        "colab": {}
      },
      "source": [
        "# Converting the dictionary into a dataframe\n",
        "ls = []\n",
        "for i, j in enumerate(items):\n",
        "    colnames = list(j[1])\n",
        "    colnames.append(\"ASIN\")\n",
        "    vals = list(j[1].values())\n",
        "    vals.append(j[0])\n",
        "    ls.append(vals)\n",
        "df = pd.DataFrame(ls, columns=colnames)"
      ],
      "execution_count": 0,
      "outputs": []
    },
    {
      "cell_type": "code",
      "metadata": {
        "id": "NA3HoKjw1obh",
        "colab_type": "code",
        "colab": {}
      },
      "source": [
        "### Regression Models"
      ],
      "execution_count": 0,
      "outputs": []
    },
    {
      "cell_type": "code",
      "metadata": {
        "id": "8drtE5D81uFh",
        "colab_type": "code",
        "outputId": "7723990e-ff24-4d0e-cbdb-c1db6e8c0fcd",
        "colab": {
          "base_uri": "https://localhost:8080/",
          "height": 224
        }
      },
      "source": [
        "# Choosing salesrank, total reviews, average rating, degree centrality, and clustering coefficient columns\n",
        "# df.head()\n",
        "df_new = df[[\"salesrank\",\"tot_reviews\",\"avg_rating\",\"degree_centrality\",\"clustering_coeff\"]]\n",
        "for i in range(len(df_new['salesrank'])):\n",
        "    if df_new['salesrank'][i] == 0:\n",
        "        df_new = df_new.drop(i)\n",
        "df_new.head()"
      ],
      "execution_count": 0,
      "outputs": [
        {
          "output_type": "execute_result",
          "data": {
            "text/html": [
              "<div>\n",
              "<style scoped>\n",
              "    .dataframe tbody tr th:only-of-type {\n",
              "        vertical-align: middle;\n",
              "    }\n",
              "\n",
              "    .dataframe tbody tr th {\n",
              "        vertical-align: top;\n",
              "    }\n",
              "\n",
              "    .dataframe thead th {\n",
              "        text-align: right;\n",
              "    }\n",
              "</style>\n",
              "<table border=\"1\" class=\"dataframe\">\n",
              "  <thead>\n",
              "    <tr style=\"text-align: right;\">\n",
              "      <th></th>\n",
              "      <th>salesrank</th>\n",
              "      <th>tot_reviews</th>\n",
              "      <th>avg_rating</th>\n",
              "      <th>degree_centrality</th>\n",
              "      <th>clustering_coeff</th>\n",
              "    </tr>\n",
              "  </thead>\n",
              "  <tbody>\n",
              "    <tr>\n",
              "      <th>1</th>\n",
              "      <td>396585</td>\n",
              "      <td>2</td>\n",
              "      <td>5.0</td>\n",
              "      <td>8</td>\n",
              "      <td>0.80</td>\n",
              "    </tr>\n",
              "    <tr>\n",
              "      <th>2</th>\n",
              "      <td>168596</td>\n",
              "      <td>12</td>\n",
              "      <td>4.5</td>\n",
              "      <td>9</td>\n",
              "      <td>0.85</td>\n",
              "    </tr>\n",
              "    <tr>\n",
              "      <th>3</th>\n",
              "      <td>1270652</td>\n",
              "      <td>1</td>\n",
              "      <td>5.0</td>\n",
              "      <td>0</td>\n",
              "      <td>0.00</td>\n",
              "    </tr>\n",
              "    <tr>\n",
              "      <th>4</th>\n",
              "      <td>631289</td>\n",
              "      <td>1</td>\n",
              "      <td>4.0</td>\n",
              "      <td>6</td>\n",
              "      <td>0.79</td>\n",
              "    </tr>\n",
              "    <tr>\n",
              "      <th>5</th>\n",
              "      <td>455160</td>\n",
              "      <td>0</td>\n",
              "      <td>0.0</td>\n",
              "      <td>4</td>\n",
              "      <td>1.00</td>\n",
              "    </tr>\n",
              "  </tbody>\n",
              "</table>\n",
              "</div>"
            ],
            "text/plain": [
              "   salesrank  tot_reviews  avg_rating  degree_centrality  clustering_coeff\n",
              "1     396585            2         5.0                  8              0.80\n",
              "2     168596           12         4.5                  9              0.85\n",
              "3    1270652            1         5.0                  0              0.00\n",
              "4     631289            1         4.0                  6              0.79\n",
              "5     455160            0         0.0                  4              1.00"
            ]
          },
          "metadata": {
            "tags": []
          },
          "execution_count": 17
        }
      ]
    },
    {
      "cell_type": "code",
      "metadata": {
        "id": "ElTE9oIzIy6Q",
        "colab_type": "code",
        "colab": {}
      },
      "source": [
        "clustering_coeff_sorted = df.sort_values('clustering_coeff', ascending=False)"
      ],
      "execution_count": 0,
      "outputs": []
    },
    {
      "cell_type": "code",
      "metadata": {
        "id": "j3Ldl8j-Jj2b",
        "colab_type": "code",
        "colab": {
          "base_uri": "https://localhost:8080/",
          "height": 204
        },
        "outputId": "c9c7ff06-4a8d-44bf-8d9d-ca2d17abf311"
      },
      "source": [
        "print(clustering_coeff_sorted[['title','group']][0:10])"
      ],
      "execution_count": 65,
      "outputs": [
        {
          "output_type": "stream",
          "text": [
            "                                                    title  group\n",
            "494386            Corporate Finance: A Valuation Approach   Book\n",
            "217709  When the Horses Came : The Horse Catcher's Tri...   Book\n",
            "217740                                    Hidden Beauties    DVD\n",
            "217735                   Crossing to Safety (Great Reads)   Book\n",
            "471969                   Banners on Favorite Bible Verses   Book\n",
            "440294  The Rorschach: A Comprehensive System, Vol 1: ...   Book\n",
            "296827      Treehouses (The House That Jack Built Series)   Book\n",
            "38244                 Mendelssohn: Piano Trios Nos. 1 & 2  Music\n",
            "79597                                             So What  Music\n",
            "471965    Atmosphere, The: An Introduction to Meteorology   Book\n"
          ],
          "name": "stdout"
        }
      ]
    },
    {
      "cell_type": "code",
      "metadata": {
        "id": "xYsod-UXLAjd",
        "colab_type": "code",
        "colab": {}
      },
      "source": [
        "degree_centrality_sorted = df.sort_values('degree_centrality', ascending=False)"
      ],
      "execution_count": 0,
      "outputs": []
    },
    {
      "cell_type": "code",
      "metadata": {
        "id": "1Q0RwJpHLIoi",
        "colab_type": "code",
        "colab": {
          "base_uri": "https://localhost:8080/",
          "height": 204
        },
        "outputId": "0ddcb2a3-657d-461d-bb0c-f16b1a9f98bb"
      },
      "source": [
        "print(degree_centrality_sorted[[\"title\",'group']][0:10])"
      ],
      "execution_count": 67,
      "outputs": [
        {
          "output_type": "stream",
          "text": [
            "                                                    title group\n",
            "458358  Diagnostic and Statistical Manual of Mental Di...  Book\n",
            "222074  Publication Manual of the American Psychologic...  Book\n",
            "548091                                              Laura   DVD\n",
            "199628                                   The Great Gatsby  Book\n",
            "515301  1001 Most Useful Spanish Words (Beginners' Gui...  Book\n",
            "502784           Brown Bear, Brown Bear, What Do You See?  Book\n",
            "291117                                           It Works  Book\n",
            "296016  Easy Spanish Phrase Book: Over 770 Basic Phras...  Book\n",
            "239107                                         The Prince  Book\n",
            "239327              Confessions (Oxford World's Classics)  Book\n"
          ],
          "name": "stdout"
        }
      ]
    },
    {
      "cell_type": "code",
      "metadata": {
        "id": "vLRZe7WP1wpP",
        "colab_type": "code",
        "colab": {}
      },
      "source": [
        "# Train test split\n",
        "train, test = df_new.sample(frac=0.6), df_new.sample(frac=0.4) "
      ],
      "execution_count": 0,
      "outputs": []
    },
    {
      "cell_type": "code",
      "metadata": {
        "id": "-dmKfZAj1zsm",
        "colab_type": "code",
        "outputId": "80c3681e-b415-4445-f6de-21ee40dca3ce",
        "colab": {
          "base_uri": "https://localhost:8080/",
          "height": 420
        }
      },
      "source": [
        "train.hist()"
      ],
      "execution_count": 0,
      "outputs": [
        {
          "output_type": "execute_result",
          "data": {
            "text/plain": [
              "array([[<matplotlib.axes._subplots.AxesSubplot object at 0x7f2ec50b53c8>,\n",
              "        <matplotlib.axes._subplots.AxesSubplot object at 0x7f2ebc15dba8>],\n",
              "       [<matplotlib.axes._subplots.AxesSubplot object at 0x7f2ebc11b198>,\n",
              "        <matplotlib.axes._subplots.AxesSubplot object at 0x7f2ebc0c8748>],\n",
              "       [<matplotlib.axes._subplots.AxesSubplot object at 0x7f2ebc0f6cf8>,\n",
              "        <matplotlib.axes._subplots.AxesSubplot object at 0x7f2ebc0b12e8>]],\n",
              "      dtype=object)"
            ]
          },
          "metadata": {
            "tags": []
          },
          "execution_count": 19
        },
        {
          "output_type": "display_data",
          "data": {
            "image/png": "[encoded data removed]",
            "text/plain": [
              "<Figure size 432x288 with 6 Axes>"
            ]
          },
          "metadata": {
            "tags": []
          }
        }
      ]
    },
    {
      "cell_type": "code",
      "metadata": {
        "id": "dDUzfzDK11mz",
        "colab_type": "code",
        "outputId": "327d87c2-fe89-455f-db4e-44e8cae242d5",
        "colab": {
          "base_uri": "https://localhost:8080/",
          "height": 420
        }
      },
      "source": [
        "test.hist()"
      ],
      "execution_count": 0,
      "outputs": [
        {
          "output_type": "execute_result",
          "data": {
            "text/plain": [
              "array([[<matplotlib.axes._subplots.AxesSubplot object at 0x7f2ebc05c908>,\n",
              "        <matplotlib.axes._subplots.AxesSubplot object at 0x7f2ebbad8668>],\n",
              "       [<matplotlib.axes._subplots.AxesSubplot object at 0x7f2ebba86c18>,\n",
              "        <matplotlib.axes._subplots.AxesSubplot object at 0x7f2ebba45208>],\n",
              "       [<matplotlib.axes._subplots.AxesSubplot object at 0x7f2ebb9f57b8>,\n",
              "        <matplotlib.axes._subplots.AxesSubplot object at 0x7f2ebba27d68>]],\n",
              "      dtype=object)"
            ]
          },
          "metadata": {
            "tags": []
          },
          "execution_count": 20
        },
        {
          "output_type": "display_data",
          "data": {
            "image/png": "[encoded data removed]",
            "text/plain": [
              "<Figure size 432x288 with 6 Axes>"
            ]
          },
          "metadata": {
            "tags": []
          }
        }
      ]
    },
    {
      "cell_type": "code",
      "metadata": {
        "id": "hfgwIW7S15jZ",
        "colab_type": "code",
        "outputId": "128453f2-536b-43af-bcc5-4c94387c6dc1",
        "colab": {
          "base_uri": "https://localhost:8080/",
          "height": 119
        }
      },
      "source": [
        "# Splitting the training data, and the label column\n",
        "X_train = train[[\"tot_reviews\",\"avg_rating\",\"degree_centrality\",\"clustering_coeff\"]]\n",
        "Y_train = train[[\"salesrank\"]]\n",
        "print(len(train))\n",
        "print(len(X_train))\n",
        "print(len(Y_train))\n",
        "\n",
        "X_test = test[[\"tot_reviews\",\"avg_rating\",\"degree_centrality\",\"clustering_coeff\"]]\n",
        "Y_test = test[[\"salesrank\"]]\n",
        "print(len(test))\n",
        "print(len(X_test))\n",
        "print(len(Y_test))"
      ],
      "execution_count": 0,
      "outputs": [
        {
          "output_type": "stream",
          "text": [
            "325586\n",
            "325586\n",
            "325586\n",
            "217057\n",
            "217057\n",
            "217057\n"
          ],
          "name": "stdout"
        }
      ]
    },
    {
      "cell_type": "code",
      "metadata": {
        "id": "slMbGGV9C_ub",
        "colab_type": "code",
        "outputId": "983e80db-1c96-42cd-ba97-3d2ff4254ab5",
        "colab": {
          "base_uri": "https://localhost:8080/",
          "height": 54
        }
      },
      "source": [
        "# Normalized linear regression\n",
        "lr = sklearn.linear_model.LinearRegression(normalize=True)\n",
        "lr.fit(X_train, Y_train)"
      ],
      "execution_count": 0,
      "outputs": [
        {
          "output_type": "execute_result",
          "data": {
            "text/plain": [
              "LinearRegression(copy_X=True, fit_intercept=True, n_jobs=None, normalize=True)"
            ]
          },
          "metadata": {
            "tags": []
          },
          "execution_count": 41
        }
      ]
    },
    {
      "cell_type": "code",
      "metadata": {
        "id": "FRL0zNm6-ksN",
        "colab_type": "code",
        "colab": {}
      },
      "source": [
        "# Prediction in test set\n",
        "prediction_lr = lr.predict(X_test)"
      ],
      "execution_count": 0,
      "outputs": []
    },
    {
      "cell_type": "code",
      "metadata": {
        "id": "QQrpmjPUDFTr",
        "colab_type": "code",
        "outputId": "007a4412-2739-4fa2-f70e-5fddb2e6cc95",
        "colab": {
          "base_uri": "https://localhost:8080/",
          "height": 401
        }
      },
      "source": [
        "intercept_lr = lr.intercept_\n",
        "coeff_lr = lr.coef_\n",
        "print(\"Linear regression train score = \", lr.score(X_train,Y_train))\n",
        "print(\"Linear regression test score = \", lr.score(X_test,Y_test))\n",
        "print(\"Intercept = \",intercept_lr[0])\n",
        "print(\"Coefficient of Total Reviews = \",coeff_lr[0][0])\n",
        "print(\"Coefficient of Average Rating = \",coeff_lr[0][1])\n",
        "print(\"Coefficient of Degree Centrality =\",coeff_lr[0][2])\n",
        "print(\"Coefficient of Clustering Coefficient =\",coeff_lr[0][3])\n",
        "\n",
        "plt.scatter(Y_test, prediction_lr)"
      ],
      "execution_count": 0,
      "outputs": [
        {
          "output_type": "stream",
          "text": [
            "Linear regression train score =  0.24697647850232307\n",
            "Linear regression train score =  0.2489601601273278\n",
            "Intercept =  937566.9118967386\n",
            "Coefficient of Total Reviews =  -238.1807167117478\n",
            "Coefficient of Average Rating =  -82872.21391232984\n",
            "Coefficient of Degree Centrality = -17364.80767812834\n",
            "Coefficient of Clustering Coefficient = -306236.5122249591\n"
          ],
          "name": "stdout"
        },
        {
          "output_type": "execute_result",
          "data": {
            "text/plain": [
              "<matplotlib.collections.PathCollection at 0x7f2eb6857438>"
            ]
          },
          "metadata": {
            "tags": []
          },
          "execution_count": 43
        },
        {
          "output_type": "display_data",
          "data": {
            "image/png": "[encoded data removed]",
            "text/plain": [
              "<Figure size 432x288 with 1 Axes>"
            ]
          },
          "metadata": {
            "tags": []
          }
        }
      ]
    },
    {
      "cell_type": "code",
      "metadata": {
        "id": "mQsxJqmEDG2k",
        "colab_type": "code",
        "outputId": "eee3a9a6-a128-48d8-8eb6-74bebed00f15",
        "colab": {
          "base_uri": "https://localhost:8080/",
          "height": 51
        }
      },
      "source": [
        "# Normalized ridge regression\n",
        "ridge = sklearn.linear_model.Ridge(alpha=0.05, normalize=False)\n",
        "ridge.fit(X_train, Y_train)"
      ],
      "execution_count": 0,
      "outputs": [
        {
          "output_type": "execute_result",
          "data": {
            "text/plain": [
              "Ridge(alpha=0.05, copy_X=True, fit_intercept=True, max_iter=None,\n",
              "      normalize=False, random_state=None, solver='auto', tol=0.001)"
            ]
          },
          "metadata": {
            "tags": []
          },
          "execution_count": 44
        }
      ]
    },
    {
      "cell_type": "code",
      "metadata": {
        "id": "X-E3rcrJDJsZ",
        "colab_type": "code",
        "colab": {}
      },
      "source": [
        "# Prediction through ridge regression\n",
        "prediction_ridge = ridge.predict(X_test)"
      ],
      "execution_count": 0,
      "outputs": []
    },
    {
      "cell_type": "code",
      "metadata": {
        "id": "tSfFatJTDLU8",
        "colab_type": "code",
        "outputId": "65637acd-6aef-4288-8be8-ba5e4ef9b990",
        "colab": {
          "base_uri": "https://localhost:8080/",
          "height": 401
        }
      },
      "source": [
        "intercept_ridge = ridge.intercept_\n",
        "coeff_ridge = ridge.coef_\n",
        "print(\"Ridge regression train score = \", ridge.score(X_train,Y_train))\n",
        "print(\"Ridge regression test score = \", ridge.score(X_test,Y_test))\n",
        "print(\"Intercept = \",intercept_ridge[0])\n",
        "print(\"Coefficient of Total Reviews = \",coeff_ridge[0][0])\n",
        "print(\"Coefficient of Average Rating = \",coeff_ridge[0][1])\n",
        "print(\"Coefficient of Degree Centrality =\",coeff_ridge[0][2])\n",
        "print(\"Coefficient of Clustering Coefficient =\",coeff_ridge[0][3])\n",
        "\n",
        "plt.scatter(Y_test, prediction_ridge)"
      ],
      "execution_count": 0,
      "outputs": [
        {
          "output_type": "stream",
          "text": [
            "Ridge regression train score =  0.24697647850226703\n",
            "Ridge regression test score =  0.24896016128793197\n",
            "Intercept =  937566.8403256098\n",
            "Coefficient of Total Reviews =  -238.18076650130314\n",
            "Coefficient of Average Rating =  -82872.2242474601\n",
            "Coefficient of Degree Centrality = -17364.82004800917\n",
            "Coefficient of Clustering Coefficient = -306236.1261793769\n"
          ],
          "name": "stdout"
        },
        {
          "output_type": "execute_result",
          "data": {
            "text/plain": [
              "<matplotlib.collections.PathCollection at 0x7f2eb67b6e10>"
            ]
          },
          "metadata": {
            "tags": []
          },
          "execution_count": 46
        },
        {
          "output_type": "display_data",
          "data": {
            "image/png": "[encoded data removed]",
            "text/plain": [
              "<Figure size 432x288 with 1 Axes>"
            ]
          },
          "metadata": {
            "tags": []
          }
        }
      ]
    },
    {
      "cell_type": "code",
      "metadata": {
        "id": "QREWBdG3DM3F",
        "colab_type": "code",
        "outputId": "16d66e25-079d-4c72-9ff2-8b426c4391c5",
        "colab": {
          "base_uri": "https://localhost:8080/",
          "height": 88
        }
      },
      "source": [
        "# Lasso regression\n",
        "lasso = sklearn.linear_model.Lasso(alpha=0.05, normalize=True)\n",
        "lasso.fit(X_train, Y_train)"
      ],
      "execution_count": 0,
      "outputs": [
        {
          "output_type": "execute_result",
          "data": {
            "text/plain": [
              "Lasso(alpha=0.05, copy_X=True, fit_intercept=True, max_iter=1000,\n",
              "      normalize=True, positive=False, precompute=False, random_state=None,\n",
              "      selection='cyclic', tol=0.0001, warm_start=False)"
            ]
          },
          "metadata": {
            "tags": []
          },
          "execution_count": 47
        }
      ]
    },
    {
      "cell_type": "code",
      "metadata": {
        "id": "bYEXQGzvDSLg",
        "colab_type": "code",
        "colab": {}
      },
      "source": [
        "# Prediction with lasso regression\n",
        "prediction_lasso = lasso.predict(X_test)"
      ],
      "execution_count": 0,
      "outputs": []
    },
    {
      "cell_type": "code",
      "metadata": {
        "id": "-PN69C2DDT4h",
        "colab_type": "code",
        "outputId": "8922ec32-70f3-4947-9508-fda4cf759310",
        "colab": {
          "base_uri": "https://localhost:8080/",
          "height": 401
        }
      },
      "source": [
        "intercept_lasso = lasso.intercept_\n",
        "coeff_lasso = lasso.coef_\n",
        "print(\"Lasso regression train score = \", lasso.score(X_train,Y_train))\n",
        "print(\"Lasso regression test score = \", lasso.score(X_test,Y_test))\n",
        "print(\"Intercept = \",intercept_lasso)\n",
        "print(\"Coefficient of Total Reviews = \",coeff_lasso[0])\n",
        "print(\"Coefficient of Average Rating = \",coeff_lasso[1])\n",
        "print(\"Coefficient of Degree Centrality =\",coeff_lasso[2])\n",
        "print(\"Coefficient of Clustering Coefficient =\",coeff_lasso[3])\n",
        "\n",
        "plt.scatter(Y_test, prediction_lasso)"
      ],
      "execution_count": 0,
      "outputs": [
        {
          "output_type": "stream",
          "text": [
            "Lasso regression train score =  0.2469764720983473\n",
            "Lasso regression test score =  0.2489601065941861\n",
            "Intercept =  [937507.53455197]\n",
            "Coefficient of Total Reviews =  -237.86455005397832\n",
            "Coefficient of Average Rating =  -82862.67733426749\n",
            "Coefficient of Degree Centrality = -17361.887266029447\n",
            "Coefficient of Clustering Coefficient = -306200.10081795935\n"
          ],
          "name": "stdout"
        },
        {
          "output_type": "execute_result",
          "data": {
            "text/plain": [
              "<matplotlib.collections.PathCollection at 0x7f2eb679f780>"
            ]
          },
          "metadata": {
            "tags": []
          },
          "execution_count": 49
        },
        {
          "output_type": "display_data",
          "data": {
            "image/png": "[encoded data removed]",
            "text/plain": [
              "<Figure size 432x288 with 1 Axes>"
            ]
          },
          "metadata": {
            "tags": []
          }
        }
      ]
    },
    {
      "cell_type": "markdown",
      "metadata": {
        "id": "bMC7xIv9DZKn",
        "colab_type": "text"
      },
      "source": [
        "Lasso model provides us the insight that Degree Centrality and Clustering Coefficient don't possess much weight in the regression model, and hence can be removed."
      ]
    },
    {
      "cell_type": "code",
      "metadata": {
        "id": "Eqj7FQBVDZ2M",
        "colab_type": "code",
        "colab": {}
      },
      "source": [
        "# Removing clustering coefficient and degree centrality from the dataset\n",
        "X_train_new = X_train[[\"tot_reviews\",\"avg_rating\"]]\n",
        "X_test_new = X_test[[\"tot_reviews\",\"avg_rating\"]]"
      ],
      "execution_count": 0,
      "outputs": []
    },
    {
      "cell_type": "code",
      "metadata": {
        "id": "sEMMLcayDbQv",
        "colab_type": "code",
        "outputId": "14f330eb-6243-418c-b18d-efa0c9eeb3b0",
        "colab": {
          "base_uri": "https://localhost:8080/",
          "height": 54
        }
      },
      "source": [
        "# Normalized Linear Regression\n",
        "lr_new = sklearn.linear_model.LinearRegression(normalize=True)\n",
        "lr_new.fit(X_train_new, Y_train)"
      ],
      "execution_count": 0,
      "outputs": [
        {
          "output_type": "execute_result",
          "data": {
            "text/plain": [
              "LinearRegression(copy_X=True, fit_intercept=True, n_jobs=None, normalize=True)"
            ]
          },
          "metadata": {
            "tags": []
          },
          "execution_count": 51
        }
      ]
    },
    {
      "cell_type": "code",
      "metadata": {
        "id": "dtY7ZFRQDczV",
        "colab_type": "code",
        "colab": {}
      },
      "source": [
        "prediction_lr_new = lr_new.predict(X_test_new)"
      ],
      "execution_count": 0,
      "outputs": []
    },
    {
      "cell_type": "code",
      "metadata": {
        "id": "o268196SDeNf",
        "colab_type": "code",
        "outputId": "54e9847a-bfb5-4875-8b5f-d228400fef9c",
        "colab": {
          "base_uri": "https://localhost:8080/",
          "height": 367
        }
      },
      "source": [
        "intercept_lr_new = lr_new.intercept_\n",
        "coeff_lr_new = lr_new.coef_\n",
        "print(\"Linear regression train score = \", lr_new.score(X_train_new,Y_train))\n",
        "print(\"Linear regression test score = \", lr_new.score(X_test_new,Y_test))\n",
        "print(\"Intercept = \",intercept_lr_new[0])\n",
        "print(\"Coefficient of Total Reviews = \",coeff_lr_new[0][0])\n",
        "print(\"Coefficient of Average Rating = \",coeff_lr_new[0][1])\n",
        "\n",
        "plt.scatter(Y_test, prediction_lr_new)"
      ],
      "execution_count": 0,
      "outputs": [
        {
          "output_type": "stream",
          "text": [
            "Linear regression train score =  0.15522516907798012\n",
            "Linear regression test score =  0.15691777694894482\n",
            "Intercept =  846548.6333880492\n",
            "Coefficient of Total Reviews =  -449.9864696841365\n",
            "Coefficient of Average Rating =  -109209.60445485623\n"
          ],
          "name": "stdout"
        },
        {
          "output_type": "execute_result",
          "data": {
            "text/plain": [
              "<matplotlib.collections.PathCollection at 0x7f2eb67045c0>"
            ]
          },
          "metadata": {
            "tags": []
          },
          "execution_count": 53
        },
        {
          "output_type": "display_data",
          "data": {
            "image/png": "[encoded data removed]",
            "text/plain": [
              "<Figure size 432x288 with 1 Axes>"
            ]
          },
          "metadata": {
            "tags": []
          }
        }
      ]
    },
    {
      "cell_type": "markdown",
      "metadata": {
        "id": "wDEkM4ggDjab",
        "colab_type": "text"
      },
      "source": [
        "The accuracy does not seem to increase more, so we stop the regression experiment. \n",
        "\n",
        "The key conclusion is that clustering and degree metrics play no role in the regression model."
      ]
    },
    {
      "cell_type": "markdown",
      "metadata": {
        "id": "hu26eGPaEHSB",
        "colab_type": "text"
      },
      "source": [
        "**Girvan Newman Algorithm**"
      ]
    },
    {
      "cell_type": "code",
      "metadata": {
        "id": "mEd11OmtAcfi",
        "colab_type": "code",
        "colab": {}
      },
      "source": [
        "# Transformation of DVD subset into graph\n",
        "connections_dvd_graph = nx.Graph()\n",
        "for key, value in amazon_dvd.items():\n",
        "  connections_dvd_graph.add_node(key)\n",
        "  for i in value['connections'].split():\n",
        "    connections_dvd_graph.add_node(i.strip())\n",
        "    similarity = 0\n",
        "    try:\n",
        "      set_1 = set(amazon_dvd[key]['categories'].split())\n",
        "      set_2 = set(amazon_dvd[i]['categories'].split())\n",
        "    except KeyError:\n",
        "      continue\n",
        "    union = set_1 & set_2\n",
        "    intersection = set_1 | set_2\n",
        "    if(len(union)) > 0:\n",
        "      similarity = round(len(intersection)/len(union),2)\n",
        "    connections_dvd_graph.add_edge(key, i.strip(), weight=similarity)"
      ],
      "execution_count": 0,
      "outputs": []
    },
    {
      "cell_type": "code",
      "metadata": {
        "id": "X6JmlP-mXFCQ",
        "colab_type": "code",
        "colab": {}
      },
      "source": [
        "# Generator object of communities through Girvan Newman algorithm\n",
        "communities_dvd = nx.algorithms.community.girvan_newman(connections_dvd_graph)"
      ],
      "execution_count": 0,
      "outputs": []
    },
    {
      "cell_type": "code",
      "metadata": {
        "id": "4fEHiYeRYtda",
        "colab_type": "code",
        "colab": {}
      },
      "source": [
        "# First community\n",
        "communities_newman = next(communities_dvd)"
      ],
      "execution_count": 0,
      "outputs": []
    },
    {
      "cell_type": "code",
      "metadata": {
        "id": "8G820-OFY2W7",
        "colab_type": "code",
        "colab": {}
      },
      "source": [
        "# Evaluating the modularity of the algorithm\n",
        "modularity_newman_new = nx.algorithms.community.modularity(connections_dvd_graph, communities_newman)"
      ],
      "execution_count": 0,
      "outputs": []
    },
    {
      "cell_type": "code",
      "metadata": {
        "id": "fQjBJZH9Y-qt",
        "colab_type": "code",
        "colab": {}
      },
      "source": [
        "# Finding the optimal modularity, and the count\n",
        "modularity_newman_old = 0.00001\n",
        "count = 0\n",
        "while modularity_newman_new > modularity_newman_old:\n",
        "  modularity_newman_old = modularity_newman_new\n",
        "  communities_newman_final = communities_newman\n",
        "  communities_newman = next(communities)\n",
        "  modularity_newman_new = nx.algorithms.community.modularity(connections_dvd_graph, communities_newman)\n",
        "  count +=1"
      ],
      "execution_count": 0,
      "outputs": []
    }
  ]
}
